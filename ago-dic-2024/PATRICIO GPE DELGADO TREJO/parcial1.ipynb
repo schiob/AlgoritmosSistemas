{
 "cells": [
  {
   "cell_type": "code",
   "execution_count": 24,
   "metadata": {},
   "outputs": [
    {
     "name": "stdout",
     "output_type": "stream",
     "text": [
      "azitromicina ibuprofeno naproxeno paracetamol rimantadina\n"
     ]
    }
   ],
   "source": [
    "#ejercicio 1\n",
    "n = int(input(\"Ingrese el numero de medicamntos\"))  \n",
    "medicamentos = input(\"Ingrese el nombre de los medicamentos\").split()  \n",
    "\n",
    "#bubble sort\n",
    "for i in range(n):\n",
    "    for j in range(0, n-i-1):\n",
    "        if medicamentos[j] > medicamentos[j+1]:\n",
    "            medicamentos[j], medicamentos[j+1] = medicamentos[j+1], medicamentos[j]\n",
    "\n",
    "print(\" \".join(medicamentos))\n",
    "#jfnsdjk"
   ]
  },
  {
   "cell_type": "code",
   "execution_count": 26,
   "metadata": {},
   "outputs": [
    {
     "name": "stdout",
     "output_type": "stream",
     "text": [
      "rimantadina azitromicina naproxeno ibuprofeno paracetamol\n"
     ]
    }
   ],
   "source": [
    "#ejercicio 2\n",
    "n = int(input(\"Ingrese el numero de medicamentos\"))  \n",
    "datos = input(\"nombre de los medicamentos y sus cantidades\").split() \n",
    "medicamentos = [(datos[i], int(datos[i+1])) for i in range(0, len(datos), 2)]\n",
    "\n",
    "#bubble sort\n",
    "for i in range(n):\n",
    "    for j in range(0, n-i-1):\n",
    "        if medicamentos[j][1] < medicamentos[j+1][1]:\n",
    "            medicamentos[j], medicamentos[j+1] = medicamentos[j+1], medicamentos[j]\n",
    "\n",
    "print(\" \".join([med[0] for med in medicamentos]))\n"
   ]
  }
 ],
 "metadata": {
  "kernelspec": {
   "display_name": "Python 3",
   "language": "python",
   "name": "python3"
  },
  "language_info": {
   "codemirror_mode": {
    "name": "ipython",
    "version": 3
   },
   "file_extension": ".py",
   "mimetype": "text/x-python",
   "name": "python",
   "nbconvert_exporter": "python",
   "pygments_lexer": "ipython3",
   "version": "3.12.5"
  }
 },
 "nbformat": 4,
 "nbformat_minor": 2
}
